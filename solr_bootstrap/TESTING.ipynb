{
 "cells": [
  {
   "cell_type": "code",
   "execution_count": 19,
   "metadata": {},
   "outputs": [],
   "source": [
    "from itertools import islice\n",
    "\n",
    "def batches(iterable, n):\n",
    "    \"Batch data into tuples of length n.  Take the tuple ends.  The last batch may be shorter.\"\n",
    "    it = iter(iterable)\n",
    "    while (batch := tuple(islice(it, n))):\n",
    "        batch = (batch[0], batch[-1])\n",
    "        yield batch"
   ]
  },
  {
   "cell_type": "code",
   "execution_count": 22,
   "metadata": {},
   "outputs": [
    {
     "data": {
      "text/plain": [
       "[(0, 5), (6, 11), (12, 17), (18, 23), (24, 29), (30, 32)]"
      ]
     },
     "execution_count": 22,
     "metadata": {},
     "output_type": "execute_result"
    }
   ],
   "source": [
    "list(batches(range(0,33), 6))"
   ]
  },
  {
   "cell_type": "code",
   "execution_count": 24,
   "metadata": {},
   "outputs": [
    {
     "name": "stdout",
     "output_type": "stream",
     "text": [
      "[]\n",
      "[(0, 0), (1, 1), (2, 2), (3, 3), (4, 4), (5, 5), (6, 6), (7, 7), (8, 8), (9, 9), (10, 10), (11, 11), (12, 12), (13, 13), (14, 14), (15, 15), (16, 16), (17, 17), (18, 18), (19, 19), (20, 20), (21, 21), (22, 22), (23, 23), (24, 24), (25, 25), (26, 26), (27, 27), (28, 28), (29, 29), (30, 30), (31, 31), (32, 32)]\n",
      "[(0, 1), (2, 3), (4, 5), (6, 7), (8, 9), (10, 11), (12, 13), (14, 15), (16, 17), (18, 19), (20, 21), (22, 23), (24, 25), (26, 27), (28, 29), (30, 31), (32, 32)]\n",
      "[(0, 2), (3, 5), (6, 8), (9, 11), (12, 14), (15, 17), (18, 20), (21, 23), (24, 26), (27, 29), (30, 32)]\n",
      "[(0, 3), (4, 7), (8, 11), (12, 15), (16, 19), (20, 23), (24, 27), (28, 31), (32, 32)]\n",
      "[(0, 4), (5, 9), (10, 14), (15, 19), (20, 24), (25, 29), (30, 32)]\n",
      "[(0, 5), (6, 11), (12, 17), (18, 23), (24, 29), (30, 32)]\n",
      "[(0, 6), (7, 13), (14, 20), (21, 27), (28, 32)]\n",
      "[(0, 7), (8, 15), (16, 23), (24, 31), (32, 32)]\n",
      "[(0, 8), (9, 17), (18, 26), (27, 32)]\n",
      "[(0, 9), (10, 19), (20, 29), (30, 32)]\n",
      "[(0, 10), (11, 21), (22, 32)]\n",
      "[(0, 11), (12, 23), (24, 32)]\n",
      "[(0, 12), (13, 25), (26, 32)]\n",
      "[(0, 13), (14, 27), (28, 32)]\n",
      "[(0, 14), (15, 29), (30, 32)]\n",
      "[(0, 15), (16, 31), (32, 32)]\n",
      "[(0, 16), (17, 32)]\n",
      "[(0, 17), (18, 32)]\n",
      "[(0, 18), (19, 32)]\n",
      "[(0, 19), (20, 32)]\n",
      "[(0, 20), (21, 32)]\n",
      "[(0, 21), (22, 32)]\n",
      "[(0, 22), (23, 32)]\n",
      "[(0, 23), (24, 32)]\n",
      "[(0, 24), (25, 32)]\n",
      "[(0, 25), (26, 32)]\n",
      "[(0, 26), (27, 32)]\n",
      "[(0, 27), (28, 32)]\n",
      "[(0, 28), (29, 32)]\n",
      "[(0, 29), (30, 32)]\n",
      "[(0, 30), (31, 32)]\n",
      "[(0, 31), (32, 32)]\n"
     ]
    }
   ],
   "source": [
    "for n in range(33):\n",
    "    print(list(batches(range(0,33), n)))"
   ]
  },
  {
   "cell_type": "code",
   "execution_count": null,
   "metadata": {},
   "outputs": [],
   "source": []
  }
 ],
 "metadata": {
  "kernelspec": {
   "display_name": ".venv",
   "language": "python",
   "name": "python3"
  },
  "language_info": {
   "codemirror_mode": {
    "name": "ipython",
    "version": 3
   },
   "file_extension": ".py",
   "mimetype": "text/x-python",
   "name": "python",
   "nbconvert_exporter": "python",
   "pygments_lexer": "ipython3",
   "version": "3.10.1"
  },
  "orig_nbformat": 4,
  "vscode": {
   "interpreter": {
    "hash": "eb79d27fc2b08869df93f7453cfba840b3fd0fd4eb60b57430fb25d69474f18a"
   }
  }
 },
 "nbformat": 4,
 "nbformat_minor": 2
}
